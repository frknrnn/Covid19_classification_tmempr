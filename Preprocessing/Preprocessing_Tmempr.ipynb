{
 "cells": [
  {
   "cell_type": "code",
   "execution_count": null,
   "metadata": {},
   "outputs": [],
   "source": [
    "import cv2\n",
    "import numpy as np\n",
    "import matplotlib.pyplot as plt\n",
    "from PIL import Image\n",
    "import os"
   ]
  },
  {
   "cell_type": "code",
   "execution_count": null,
   "metadata": {},
   "outputs": [],
   "source": [
    "def first_step(image):\n",
    "    l,m =image.shape\n",
    "    \n",
    "    u1 = np.array(np.sum(image,axis=1),np.float32).reshape(l,1)\n",
    "    u =np.array(u1/np.linalg.norm(u1),np.float32)\n",
    "    \n",
    "    v1 = np.array(np.sum(image,axis=0),np.float32).reshape(m,1)\n",
    "    v =np.array(v1/np.linalg.norm(v1),np.float32)\n",
    "    \n",
    "    return l,m,u,v\n",
    "\n",
    "def decomposition(x_batch,limit):\n",
    "    l,m,u_1,v_1=first_step(x_batch)\n",
    "    eigen = []\n",
    "    u=u_1\n",
    "    v=v_1\n",
    "    A=x_batch\n",
    "    for i in range(limit):\n",
    "        j,k =A.shape\n",
    "        alfa = np.matmul(np.matmul(u_1.transpose(),A,dtype=np.float32),v_1,dtype=np.float32)\n",
    "        bet1 = np.eye(j)-(np.matmul(u_1,u_1.transpose(),dtype=np.float32))\n",
    "        bet2 = np.matmul(np.matmul(bet1,A,dtype=np.float32),v_1,dtype=np.float32)\n",
    "        beta = np.linalg.norm(bet2)\n",
    "        u_n = np.array(bet2/beta,dtype=np.float32)\n",
    "        gam1 =np.eye(k)-(np.matmul(v_1,v_1.transpose(),dtype=np.float32))\n",
    "        gam2 =np.matmul(np.matmul(gam1,A.transpose(),dtype=np.float32),u_1,dtype=np.float32)\n",
    "        gama = np.linalg.norm(gam2)\n",
    "        v_n =np.array(gam2/gama,dtype=np.float32)\n",
    "        A_n =np.matmul(np.matmul(bet1,A),gam1,dtype=np.float32)\n",
    "        S_n =alfa*u_1*v_1.transpose()+beta*u_n*v_1.transpose()+gama*u_1*v_n.transpose()\n",
    " \n",
    "        eigen.append(alfa)\n",
    "        eigen.append(beta)\n",
    "        eigen.append(gama)\n",
    "        \n",
    "        u_1=u_n\n",
    "        v_1=v_n\n",
    "        A=A_n\n",
    "        \n",
    "    return np.array(eigen).astype('float32')"
   ]
  },
  {
   "cell_type": "code",
   "execution_count": null,
   "metadata": {},
   "outputs": [],
   "source": [
    "covid_list_folder = os.listdir(\"C:/Users/furka/Covid-19_TMEMPR_Classification/DataSet_Orginal/Covid\")\n",
    "normal_list_folder = os.listdir(\"C:/Users/furka/Covid-19_TMEMPR_Classification/DataSet_Orginal/Normal\")"
   ]
  },
  {
   "cell_type": "code",
   "execution_count": null,
   "metadata": {},
   "outputs": [],
   "source": [
    "covid_list =[]\n",
    "for i in covid_list_folder:\n",
    "    image=cv2.imread(\"C:/Users/furka/Covid-19_TMEMPR_Classification/DataSet_Orginal/Covid/\"+i)\n",
    "    gray_image = cv2.cvtColor(image, cv2.COLOR_BGR2GRAY)\n",
    "    decomposition_image = np.array(decomposition(gray_image,345),dtype=np.float32)\n",
    "    covid_list.append(decomposition_image)"
   ]
  },
  {
   "cell_type": "code",
   "execution_count": null,
   "metadata": {},
   "outputs": [],
   "source": [
    "np.savetxt(\"covid_tmempr_100.csv\", covid_list, delimiter=\",\")"
   ]
  },
  {
   "cell_type": "code",
   "execution_count": null,
   "metadata": {},
   "outputs": [],
   "source": [
    "normal_list =[]\n",
    "for i in normal_list_folder:\n",
    "    image=cv2.imread(\"C:/Users/furka/Covid-19_TMEMPR_Classification/DataSet_Orginal/Normal/\"+i)\n",
    "    gray_image = cv2.cvtColor(image, cv2.COLOR_BGR2GRAY)\n",
    "    decomposition_image = np.array(decomposition(gray_image,345),dtype=np.float32)\n",
    "    normal_list.append(decomposition_image)"
   ]
  },
  {
   "cell_type": "code",
   "execution_count": null,
   "metadata": {},
   "outputs": [],
   "source": [
    "np.savetxt(\"normal_tmempr_100.csv\", normal_list, delimiter=\",\")"
   ]
  }
 ],
 "metadata": {
  "kernelspec": {
   "display_name": "Python 3",
   "language": "python",
   "name": "python3"
  },
  "language_info": {
   "codemirror_mode": {
    "name": "ipython",
    "version": 3
   },
   "file_extension": ".py",
   "mimetype": "text/x-python",
   "name": "python",
   "nbconvert_exporter": "python",
   "pygments_lexer": "ipython3",
   "version": "3.8.5"
  }
 },
 "nbformat": 4,
 "nbformat_minor": 4
}
