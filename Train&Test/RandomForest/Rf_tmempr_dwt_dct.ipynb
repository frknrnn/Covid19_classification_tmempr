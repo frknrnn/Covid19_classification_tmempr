{
 "cells": [
  {
   "cell_type": "code",
   "execution_count": 1,
   "metadata": {},
   "outputs": [],
   "source": [
    "from sklearn.metrics import precision_score, accuracy_score, recall_score, f1_score\n",
    "from sklearn.model_selection import GridSearchCV, StratifiedKFold, train_test_split\n",
    "import matplotlib.pyplot as plt\n",
    "from matplotlib.pyplot import figure\n",
    "from sklearn.metrics import classification_report,confusion_matrix\n",
    "from sklearn.ensemble import RandomForestClassifier\n",
    "from sklearn.model_selection import train_test_split\n",
    "from sklearn.preprocessing import StandardScaler\n",
    "from sklearn import model_selection\n",
    "from sklearn.model_selection import cross_val_predict\n",
    "import numpy as np\n",
    "import pandas as pd\n",
    "import statistics\n",
    "import time"
   ]
  },
  {
   "cell_type": "code",
   "execution_count": 2,
   "metadata": {},
   "outputs": [],
   "source": [
    "covid_list_tmempr = pd.read_csv(\"C:/Users/furka/Covid-19_TMEMPR_Classification/DataSet_Csv/covid_tmempr_100.csv\", sep=','  , engine='python').values.tolist()\n",
    "normal_list_tmempr = pd.read_csv(\"C:/Users/furka/Covid-19_TMEMPR_Classification/DataSet_Csv/normal_tmempr_100.csv\", sep=','  , engine='python').values.tolist()\n",
    "covid_list_dwt = pd.read_csv(\"C:/Users/furka/Covid-19_TMEMPR_Classification/DataSet_Csv/covid_wavelet_100.csv\", sep=','  , engine='python').values.tolist()\n",
    "normal_list_dwt = pd.read_csv(\"C:/Users/furka/Covid-19_TMEMPR_Classification/DataSet_Csv/normal_wavelet_100.csv\", sep=','  , engine='python').values.tolist()\n",
    "covid_list_dct = pd.read_csv(\"C:/Users/furka/Covid-19_TMEMPR_Classification/DataSet_Csv/covid_dct_100.csv\", sep=','  , engine='python').values.tolist()\n",
    "normal_list_dct = pd.read_csv(\"C:/Users/furka/Covid-19_TMEMPR_Classification/DataSet_Csv/normal_dct_100.csv\", sep=','  , engine='python').values.tolist()\n",
    "\n",
    "\n",
    "X_covid = covid_list_tmempr+covid_list_dwt+covid_list_dct\n",
    "X_normal = normal_list_tmempr+normal_list_dwt+normal_list_dct\n",
    "X=X_covid+X_normal\n",
    "y =[]\n",
    "for i in range(len(X_covid)):\n",
    "    y.append(1)\n",
    "for i in range(len(X_normal)):\n",
    "    y.append(0)"
   ]
  },
  {
   "cell_type": "code",
   "execution_count": 3,
   "metadata": {},
   "outputs": [],
   "source": [
    "X_scaled = StandardScaler().fit_transform(X)"
   ]
  },
  {
   "cell_type": "code",
   "execution_count": 4,
   "metadata": {},
   "outputs": [],
   "source": [
    "def run_classifier(cv):\n",
    "    Acc_list=[]\n",
    "    Prsc_list = []\n",
    "    Rcl_list=[]\n",
    "    F1_list = []\n",
    "    time_list=[]\n",
    "    for i in range(5):\n",
    "        start_time = time.time()\n",
    "        y_pred = cross_val_predict(RandomForestClassifier(n_estimators=300), X_scaled, y, cv=cv)\n",
    "        finish_time = time.time()\n",
    "        time_list.append(finish_time-start_time)\n",
    "        Acc_list.append(accuracy_score(y, y_pred))\n",
    "        Prsc_list.append(precision_score(y, y_pred))\n",
    "        Rcl_list.append(recall_score(y, y_pred))\n",
    "        F1_list.append(f1_score(y, y_pred))\n",
    "    print(\"Cv: \"+ str(cv))\n",
    "    print(\"Average Accuracy:\"+str(sum(Acc_list)/len(Acc_list))+\" Stdv:\"+str(statistics.stdev(Acc_list)))\n",
    "    print(\"Average Precision:\"+str(sum(Prsc_list)/len(Prsc_list))+\" Stdv:\"+str(statistics.stdev(Prsc_list)))\n",
    "    print(\"Average recall score:\"+str(sum(Rcl_list)/len(Rcl_list))+\" Stdv:\"+str(statistics.stdev(Rcl_list)))\n",
    "    print(\"Average f1_score:\"+str(sum(F1_list)/len(F1_list))+\" Stdv:\"+str(statistics.stdev(F1_list)))\n",
    "    print(\"Average Time :\"+str(sum(time_list)/len(time_list)))"
   ]
  },
  {
   "cell_type": "code",
   "execution_count": 5,
   "metadata": {},
   "outputs": [
    {
     "name": "stdout",
     "output_type": "stream",
     "text": [
      "Cv: 3\n",
      "Average Accuracy:0.33849557522123896 Stdv:0.0\n",
      "Average Precision:0.33849557522123896 Stdv:0.0\n",
      "Average recall score:1.0 Stdv:0.0\n",
      "Average f1_score:0.5057851239669421 Stdv:0.0\n",
      "Average Time :11.15442509651184\n",
      "Cv: 5\n",
      "Average Accuracy:0.9132743362831859 Stdv:0.002366785624761235\n",
      "Average Precision:0.9475789812919434 Stdv:0.003819619678121844\n",
      "Average recall score:0.7873638344226579 Stdv:0.007159771993531603\n",
      "Average f1_score:0.8600545931334654 Stdv:0.00429312672454852\n",
      "Average Time :24.117990446090698\n",
      "Cv: 10\n",
      "Average Accuracy:0.926401179941003 Stdv:0.0015987819608170393\n",
      "Average Precision:0.958164463926958 Stdv:0.0028884832535790743\n",
      "Average recall score:0.8183006535947712 Stdv:0.002484042320477458\n",
      "Average f1_score:0.8827261408593493 Stdv:0.00254926079515984\n",
      "Average Time :56.576907062530516\n",
      "Cv: 20\n",
      "Average Accuracy:0.9311209439528024 Stdv:0.001118418207087267\n",
      "Average Precision:0.9630237347451253 Stdv:0.0028141352669374033\n",
      "Average recall score:0.8283224400871461 Stdv:0.0009743215588234508\n",
      "Average f1_score:0.890607822447232 Stdv:0.001684573189394132\n",
      "Average Time :121.22147483825684\n",
      "Cv: 30\n",
      "Average Accuracy:0.9314159292035399 Stdv:0.002445888488462677\n",
      "Average Precision:0.9602749326725629 Stdv:0.0039607876830593264\n",
      "Average recall score:0.8318082788671024 Stdv:0.006608170321613543\n",
      "Average f1_score:0.89142266797187 Stdv:0.0041316557600725706\n",
      "Average Time :185.97897367477418\n",
      "Cv: 40\n",
      "Average Accuracy:0.9346607669616519 Stdv:0.0016157007596022549\n",
      "Average Precision:0.9639460186574558 Stdv:0.0030857844975690028\n",
      "Average recall score:0.8383442265795207 Stdv:0.006045506285625959\n",
      "Average f1_score:0.8967526880968754 Stdv:0.0028903205080395844\n",
      "Average Time :250.47574100494384\n",
      "Cv: 80\n",
      "Average Accuracy:0.9351032448377581 Stdv:0.0026073258893309133\n",
      "Average Precision:0.9598402180552956 Stdv:0.003676768535400885\n",
      "Average recall score:0.8435729847494553 Stdv:0.005201453763099487\n",
      "Average f1_score:0.8979550566437565 Stdv:0.0042158338384004415\n",
      "Average Time :510.2482223033905\n"
     ]
    }
   ],
   "source": [
    "cv_list=[3,5,10,20,30,40,80]\n",
    "for i in cv_list:\n",
    "    run_classifier(i)"
   ]
  },
  {
   "cell_type": "code",
   "execution_count": null,
   "metadata": {},
   "outputs": [],
   "source": []
  }
 ],
 "metadata": {
  "kernelspec": {
   "display_name": "Python 3",
   "language": "python",
   "name": "python3"
  },
  "language_info": {
   "codemirror_mode": {
    "name": "ipython",
    "version": 3
   },
   "file_extension": ".py",
   "mimetype": "text/x-python",
   "name": "python",
   "nbconvert_exporter": "python",
   "pygments_lexer": "ipython3",
   "version": "3.8.5"
  }
 },
 "nbformat": 4,
 "nbformat_minor": 4
}
