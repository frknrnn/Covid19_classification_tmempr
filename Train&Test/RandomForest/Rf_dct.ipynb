{
 "cells": [
  {
   "cell_type": "code",
   "execution_count": 1,
   "metadata": {},
   "outputs": [],
   "source": [
    "from sklearn.metrics import precision_score, accuracy_score, recall_score, f1_score\n",
    "from sklearn.model_selection import GridSearchCV, StratifiedKFold, train_test_split\n",
    "import matplotlib.pyplot as plt\n",
    "from matplotlib.pyplot import figure\n",
    "from sklearn.metrics import classification_report,confusion_matrix\n",
    "from sklearn.ensemble import RandomForestClassifier\n",
    "from sklearn.model_selection import train_test_split\n",
    "from sklearn.preprocessing import StandardScaler\n",
    "from sklearn import model_selection\n",
    "from sklearn.model_selection import cross_val_predict\n",
    "import numpy as np\n",
    "import pandas as pd\n",
    "import statistics\n",
    "import time"
   ]
  },
  {
   "cell_type": "code",
   "execution_count": 2,
   "metadata": {},
   "outputs": [],
   "source": [
    "covid_list = pd.read_csv(\"C:/Users/furka/Covid-19_TMEMPR_Classification/DataSet_Csv/covid_dct_100.csv\", sep=','  , engine='python')\n",
    "normal_list = pd.read_csv(\"C:/Users/furka/Covid-19_TMEMPR_Classification/DataSet_Csv/normal_dct_100.csv\", sep=','  , engine='python')\n",
    "covid_list=covid_list.values.tolist()\n",
    "normal_list = normal_list.values.tolist()\n",
    "X = covid_list+normal_list\n",
    "y =[]\n",
    "for i in range(len(covid_list)):\n",
    "    y.append(1)\n",
    "for i in range(len(normal_list)):\n",
    "    y.append(0)"
   ]
  },
  {
   "cell_type": "code",
   "execution_count": 3,
   "metadata": {},
   "outputs": [],
   "source": [
    "X_scaled = StandardScaler().fit_transform(X)"
   ]
  },
  {
   "cell_type": "code",
   "execution_count": 4,
   "metadata": {},
   "outputs": [],
   "source": [
    "def run_classifier(cv):\n",
    "    Acc_list=[]\n",
    "    Prsc_list = []\n",
    "    Rcl_list=[]\n",
    "    F1_list = []\n",
    "    time_list=[]\n",
    "    for i in range(5):\n",
    "        start_time = time.time()\n",
    "        y_pred = cross_val_predict(RandomForestClassifier(n_estimators=300), X_scaled, y, cv=cv)\n",
    "        finish_time = time.time()\n",
    "        time_list.append(finish_time-start_time)\n",
    "        Acc_list.append(accuracy_score(y, y_pred))\n",
    "        Prsc_list.append(precision_score(y, y_pred))\n",
    "        Rcl_list.append(recall_score(y, y_pred))\n",
    "        F1_list.append(f1_score(y, y_pred))\n",
    "    print(\"Cv: \"+ str(cv))\n",
    "    print(\"Average Accuracy:\"+str(sum(Acc_list)/len(Acc_list))+\" Stdv:\"+str(statistics.stdev(Acc_list)))\n",
    "    print(\"Average Precision:\"+str(sum(Prsc_list)/len(Prsc_list))+\" Stdv:\"+str(statistics.stdev(Prsc_list)))\n",
    "    print(\"Average recall score:\"+str(sum(Rcl_list)/len(Rcl_list))+\" Stdv:\"+str(statistics.stdev(Rcl_list)))\n",
    "    print(\"Average f1_score:\"+str(sum(F1_list)/len(F1_list))+\" Stdv:\"+str(statistics.stdev(F1_list)))\n",
    "    print(\"Average Time :\"+str(sum(time_list)/len(time_list)))"
   ]
  },
  {
   "cell_type": "code",
   "execution_count": 5,
   "metadata": {},
   "outputs": [
    {
     "name": "stdout",
     "output_type": "stream",
     "text": [
      "Cv: 3\n",
      "Average Accuracy:0.8915929203539823 Stdv:0.003498094756823416\n",
      "Average Precision:0.9156139963781929 Stdv:0.01457124162167843\n",
      "Average recall score:0.7490196078431373 Stdv:0.009912255482420293\n",
      "Average f1_score:0.8238691095844045 Stdv:0.005223625074327609\n",
      "Average Time :3.200989580154419\n",
      "Cv: 5\n",
      "Average Accuracy:0.8924778761061948 Stdv:0.00509330284655811\n",
      "Average Precision:0.917139965250459 Stdv:0.015009881682148046\n",
      "Average recall score:0.7503267973856209 Stdv:0.008521833209415196\n",
      "Average f1_score:0.8253201552929357 Stdv:0.007722630933449198\n",
      "Average Time :6.518995904922486\n",
      "Cv: 10\n",
      "Average Accuracy:0.8982300884955752 Stdv:0.0027096125473265514\n",
      "Average Precision:0.9121819266005312 Stdv:0.0038690262511166303\n",
      "Average recall score:0.7738562091503267 Stdv:0.007452126961432282\n",
      "Average f1_score:0.8373281523483922 Stdv:0.004834606099648007\n",
      "Average Time :14.57457332611084\n",
      "Cv: 20\n",
      "Average Accuracy:0.9 Stdv:0.0024235511394033937\n",
      "Average Precision:0.9040995193666947 Stdv:0.004953266382197606\n",
      "Average recall score:0.7882352941176471 Stdv:0.009912255482420343\n",
      "Average f1_score:0.8421557120500782 Stdv:0.004715371427785936\n",
      "Average Time :29.569151401519775\n",
      "Cv: 30\n",
      "Average Accuracy:0.9061946902654867 Stdv:0.005093302846558127\n",
      "Average Precision:0.9157720837356008 Stdv:0.006545001617232718\n",
      "Average recall score:0.7960784313725491 Stdv:0.010739657990297384\n",
      "Average f1_score:0.8517263910943058 Stdv:0.00854682417442661\n",
      "Average Time :46.06754183769226\n",
      "Cv: 40\n",
      "Average Accuracy:0.9066371681415928 Stdv:0.004796345882451093\n",
      "Average Precision:0.9026667579724237 Stdv:0.0072114619350352425\n",
      "Average recall score:0.8117647058823529 Stdv:0.014169596986064601\n",
      "Average f1_score:0.8547410315644637 Stdv:0.00835631058060239\n",
      "Average Time :61.09085068702698\n",
      "Cv: 80\n",
      "Average Accuracy:0.9199115044247786 Stdv:0.003635326709105087\n",
      "Average Precision:0.9195598573192886 Stdv:0.005579376103874358\n",
      "Average recall score:0.8366013071895425 Stdv:0.009243225897863333\n",
      "Average f1_score:0.8760970114183178 Stdv:0.005985333693695227\n",
      "Average Time :125.58413515090942\n"
     ]
    }
   ],
   "source": [
    "cv_list=[3,5,10,20,30,40,80]\n",
    "for i in cv_list:\n",
    "    run_classifier(i)"
   ]
  },
  {
   "cell_type": "code",
   "execution_count": null,
   "metadata": {},
   "outputs": [],
   "source": []
  }
 ],
 "metadata": {
  "kernelspec": {
   "display_name": "Python 3",
   "language": "python",
   "name": "python3"
  },
  "language_info": {
   "codemirror_mode": {
    "name": "ipython",
    "version": 3
   },
   "file_extension": ".py",
   "mimetype": "text/x-python",
   "name": "python",
   "nbconvert_exporter": "python",
   "pygments_lexer": "ipython3",
   "version": "3.8.5"
  }
 },
 "nbformat": 4,
 "nbformat_minor": 4
}
