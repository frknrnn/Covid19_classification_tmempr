{
 "cells": [
  {
   "cell_type": "code",
   "execution_count": 1,
   "metadata": {},
   "outputs": [],
   "source": [
    "from sklearn.metrics import precision_score, accuracy_score, recall_score, f1_score\n",
    "from sklearn.model_selection import GridSearchCV, StratifiedKFold, train_test_split\n",
    "import matplotlib.pyplot as plt\n",
    "from matplotlib.pyplot import figure\n",
    "from sklearn.metrics import classification_report,confusion_matrix\n",
    "from sklearn.ensemble import RandomForestClassifier\n",
    "from sklearn.model_selection import train_test_split\n",
    "from sklearn.preprocessing import StandardScaler\n",
    "from sklearn import model_selection\n",
    "from sklearn.model_selection import cross_val_predict\n",
    "import numpy as np\n",
    "import pandas as pd\n",
    "import statistics\n",
    "import time"
   ]
  },
  {
   "cell_type": "code",
   "execution_count": 2,
   "metadata": {},
   "outputs": [],
   "source": [
    "covid_list_dwt = pd.read_csv(\"C:/Users/furka/Covid-19_TMEMPR_Classification/DataSet_Csv/covid_wavelet_100.csv\", sep=','  , engine='python').values.tolist()\n",
    "normal_list_dwt = pd.read_csv(\"C:/Users/furka/Covid-19_TMEMPR_Classification/DataSet_Csv/normal_wavelet_100.csv\", sep=','  , engine='python').values.tolist()\n",
    "covid_list_dct = pd.read_csv(\"C:/Users/furka/Covid-19_TMEMPR_Classification/DataSet_Csv/covid_dct_100.csv\", sep=','  , engine='python').values.tolist()\n",
    "normal_list_dct = pd.read_csv(\"C:/Users/furka/Covid-19_TMEMPR_Classification/DataSet_Csv/normal_dct_100.csv\", sep=','  , engine='python').values.tolist()\n",
    "\n",
    "X_covid = covid_list_dwt+covid_list_dct\n",
    "X_normal = normal_list_dwt+normal_list_dct\n",
    "X=X_covid+X_normal\n",
    "y =[]\n",
    "for i in range(len(X_covid)):\n",
    "    y.append(1)\n",
    "for i in range(len(X_normal)):\n",
    "    y.append(0)"
   ]
  },
  {
   "cell_type": "code",
   "execution_count": 3,
   "metadata": {},
   "outputs": [],
   "source": [
    "X_scaled = StandardScaler().fit_transform(X)"
   ]
  },
  {
   "cell_type": "code",
   "execution_count": 4,
   "metadata": {},
   "outputs": [],
   "source": [
    "def run_classifier(cv):\n",
    "    Acc_list=[]\n",
    "    Prsc_list = []\n",
    "    Rcl_list=[]\n",
    "    F1_list = []\n",
    "    time_list=[]\n",
    "    for i in range(5):\n",
    "        start_time = time.time()\n",
    "        y_pred = cross_val_predict(RandomForestClassifier(n_estimators=300), X_scaled, y, cv=cv)\n",
    "        finish_time = time.time()\n",
    "        time_list.append(finish_time-start_time)\n",
    "        Acc_list.append(accuracy_score(y, y_pred))\n",
    "        Prsc_list.append(precision_score(y, y_pred))\n",
    "        Rcl_list.append(recall_score(y, y_pred))\n",
    "        F1_list.append(f1_score(y, y_pred))\n",
    "    print(\"Cv: \"+ str(cv))\n",
    "    print(\"Average Accuracy:\"+str(sum(Acc_list)/len(Acc_list))+\" Stdv:\"+str(statistics.stdev(Acc_list)))\n",
    "    print(\"Average Precision:\"+str(sum(Prsc_list)/len(Prsc_list))+\" Stdv:\"+str(statistics.stdev(Prsc_list)))\n",
    "    print(\"Average recall score:\"+str(sum(Rcl_list)/len(Rcl_list))+\" Stdv:\"+str(statistics.stdev(Rcl_list)))\n",
    "    print(\"Average f1_score:\"+str(sum(F1_list)/len(F1_list))+\" Stdv:\"+str(statistics.stdev(F1_list)))\n",
    "    print(\"Average Time :\"+str(sum(time_list)/len(time_list)))"
   ]
  },
  {
   "cell_type": "code",
   "execution_count": 5,
   "metadata": {},
   "outputs": [
    {
     "name": "stdout",
     "output_type": "stream",
     "text": [
      "Cv: 3\n",
      "Average Accuracy:0.8845132743362832 Stdv:0.0031869159935592715\n",
      "Average Precision:0.9019309028611995 Stdv:0.0047204229036844954\n",
      "Average recall score:0.7392156862745098 Stdv:0.009068259428438969\n",
      "Average f1_score:0.8124794876712746 Stdv:0.0059401967159380285\n",
      "Average Time :6.632854223251343\n",
      "Cv: 5\n",
      "Average Accuracy:0.9163716814159292 Stdv:0.0038795747603429295\n",
      "Average Precision:0.944476946868251 Stdv:0.00596544919416023\n",
      "Average recall score:0.8 Stdv:0.010936732372994461\n",
      "Average f1_score:0.8662154835771678 Stdv:0.006860468488289196\n",
      "Average Time :13.476953887939453\n",
      "Cv: 10\n",
      "Average Accuracy:0.913495575221239 Stdv:0.004019004894819701\n",
      "Average Precision:0.9424991078479451 Stdv:0.004230027435339042\n",
      "Average recall score:0.7928104575163399 Stdv:0.010488108846981193\n",
      "Average f1_score:0.8611732892744495 Stdv:0.007124087323987727\n",
      "Average Time :30.252369451522828\n",
      "Cv: 20\n",
      "Average Accuracy:0.9179203539823009 Stdv:0.0018176633545525333\n",
      "Average Precision:0.9413666164386297 Stdv:0.0031037030747372565\n",
      "Average recall score:0.807843137254902 Stdv:0.005369828995148668\n",
      "Average f1_score:0.8694979387320094 Stdv:0.003181778512410495\n",
      "Average Time :64.99569516181946\n",
      "Cv: 30\n",
      "Average Accuracy:0.9219026548672566 Stdv:0.005339609905374855\n",
      "Average Precision:0.9448149688328911 Stdv:0.0050731874153658665\n",
      "Average recall score:0.8169934640522876 Stdv:0.014056087037651327\n",
      "Average f1_score:0.8762240643939891 Stdv:0.009248080492962128\n",
      "Average Time :100.02209401130676\n",
      "Cv: 40\n",
      "Average Accuracy:0.9234513274336283 Stdv:0.0036184573526097602\n",
      "Average Precision:0.9458066340199597 Stdv:0.00657989942676415\n",
      "Average recall score:0.8209150326797385 Stdv:0.007802180644649235\n",
      "Average f1_score:0.8789282310331133 Stdv:0.005904457181045428\n",
      "Average Time :134.3577759742737\n",
      "Cv: 80\n",
      "Average Accuracy:0.9232300884955752 Stdv:0.002423551139403409\n",
      "Average Precision:0.9391239728067763 Stdv:0.0019751659538532296\n",
      "Average recall score:0.826797385620915 Stdv:0.006932419423397539\n",
      "Average f1_score:0.8793767192035375 Stdv:0.0042177791621372885\n",
      "Average Time :272.98595123291017\n"
     ]
    }
   ],
   "source": [
    "cv_list=[3,5,10,20,30,40,80]\n",
    "for i in cv_list:\n",
    "    run_classifier(i)"
   ]
  },
  {
   "cell_type": "code",
   "execution_count": null,
   "metadata": {},
   "outputs": [],
   "source": []
  }
 ],
 "metadata": {
  "kernelspec": {
   "display_name": "Python 3",
   "language": "python",
   "name": "python3"
  },
  "language_info": {
   "codemirror_mode": {
    "name": "ipython",
    "version": 3
   },
   "file_extension": ".py",
   "mimetype": "text/x-python",
   "name": "python",
   "nbconvert_exporter": "python",
   "pygments_lexer": "ipython3",
   "version": "3.8.5"
  }
 },
 "nbformat": 4,
 "nbformat_minor": 4
}
