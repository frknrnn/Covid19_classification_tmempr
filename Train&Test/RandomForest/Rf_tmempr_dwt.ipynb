{
 "cells": [
  {
   "cell_type": "code",
   "execution_count": 1,
   "metadata": {},
   "outputs": [],
   "source": [
    "from sklearn.metrics import precision_score, accuracy_score, recall_score, f1_score\n",
    "from sklearn.model_selection import GridSearchCV, StratifiedKFold, train_test_split\n",
    "import matplotlib.pyplot as plt\n",
    "from matplotlib.pyplot import figure\n",
    "from sklearn.metrics import classification_report,confusion_matrix\n",
    "from sklearn.ensemble import RandomForestClassifier\n",
    "from sklearn.model_selection import train_test_split\n",
    "from sklearn.preprocessing import StandardScaler\n",
    "from sklearn import model_selection\n",
    "from sklearn.model_selection import cross_val_predict\n",
    "import numpy as np\n",
    "import pandas as pd\n",
    "import statistics\n",
    "import time"
   ]
  },
  {
   "cell_type": "code",
   "execution_count": 2,
   "metadata": {},
   "outputs": [],
   "source": [
    "covid_list_tmempr = pd.read_csv(\"C:/Users/furka/Covid-19_TMEMPR_Classification/DataSet_Csv/covid_tmempr_100.csv\", sep=','  , engine='python').values.tolist()\n",
    "normal_list_tmempr = pd.read_csv(\"C:/Users/furka/Covid-19_TMEMPR_Classification/DataSet_Csv/normal_tmempr_100.csv\", sep=','  , engine='python').values.tolist()\n",
    "covid_list_dwt = pd.read_csv(\"C:/Users/furka/Covid-19_TMEMPR_Classification/DataSet_Csv/covid_wavelet_100.csv\", sep=','  , engine='python').values.tolist()\n",
    "normal_list_dwt = pd.read_csv(\"C:/Users/furka/Covid-19_TMEMPR_Classification/DataSet_Csv/normal_wavelet_100.csv\", sep=','  , engine='python').values.tolist()\n",
    "\n",
    "X_covid = covid_list_tmempr+covid_list_dwt\n",
    "X_normal = normal_list_tmempr+normal_list_dwt\n",
    "X=X_covid+X_normal\n",
    "y =[]\n",
    "for i in range(len(X_covid)):\n",
    "    y.append(1)\n",
    "for i in range(len(X_normal)):\n",
    "    y.append(0)"
   ]
  },
  {
   "cell_type": "code",
   "execution_count": 3,
   "metadata": {},
   "outputs": [],
   "source": [
    "X_scaled = StandardScaler().fit_transform(X)"
   ]
  },
  {
   "cell_type": "code",
   "execution_count": 4,
   "metadata": {},
   "outputs": [],
   "source": [
    "def run_classifier(cv):\n",
    "    Acc_list=[]\n",
    "    Prsc_list = []\n",
    "    Rcl_list=[]\n",
    "    F1_list = []\n",
    "    time_list=[]\n",
    "    for i in range(5):\n",
    "        start_time = time.time()\n",
    "        y_pred = cross_val_predict(RandomForestClassifier(n_estimators=300), X_scaled, y, cv=cv)\n",
    "        finish_time = time.time()\n",
    "        time_list.append(finish_time-start_time)\n",
    "        Acc_list.append(accuracy_score(y, y_pred))\n",
    "        Prsc_list.append(precision_score(y, y_pred))\n",
    "        Rcl_list.append(recall_score(y, y_pred))\n",
    "        F1_list.append(f1_score(y, y_pred))\n",
    "    print(\"Cv: \"+ str(cv))\n",
    "    print(\"Average Accuracy:\"+str(sum(Acc_list)/len(Acc_list))+\" Stdv:\"+str(statistics.stdev(Acc_list)))\n",
    "    print(\"Average Precision:\"+str(sum(Prsc_list)/len(Prsc_list))+\" Stdv:\"+str(statistics.stdev(Prsc_list)))\n",
    "    print(\"Average recall score:\"+str(sum(Rcl_list)/len(Rcl_list))+\" Stdv:\"+str(statistics.stdev(Rcl_list)))\n",
    "    print(\"Average f1_score:\"+str(sum(F1_list)/len(F1_list))+\" Stdv:\"+str(statistics.stdev(F1_list)))\n",
    "    print(\"Average Time :\"+str(sum(time_list)/len(time_list)))"
   ]
  },
  {
   "cell_type": "code",
   "execution_count": 5,
   "metadata": {},
   "outputs": [
    {
     "name": "stdout",
     "output_type": "stream",
     "text": [
      "Cv: 3\n",
      "Average Accuracy:0.9283185840707965 Stdv:0.0019788212190263626\n",
      "Average Precision:0.9733110428899401 Stdv:0.0017733943498921875\n",
      "Average recall score:0.8104575163398693 Stdv:0.005167120359752236\n",
      "Average f1_score:0.8844442888229109 Stdv:0.003458884847002064\n",
      "Average Time :7.401808595657348\n",
      "Cv: 5\n",
      "Average Accuracy:0.9460176991150444 Stdv:0.002267024505743226\n",
      "Average Precision:0.9639248889696906 Stdv:0.0036105753953732454\n",
      "Average recall score:0.8732026143790851 Stdv:0.003579885996765779\n",
      "Average f1_score:0.9163232218802134 Stdv:0.003529543635049284\n",
      "Average Time :16.363849449157716\n",
      "Cv: 10\n",
      "Average Accuracy:0.9469026548672567 Stdv:0.0011061946902654607\n",
      "Average Precision:0.9574463804262704 Stdv:0.00015089992945154158\n",
      "Average recall score:0.8823529411764707 Stdv:0.0032679738562091387\n",
      "Average f1_score:0.9183648441950542 Stdv:0.0018395171672343361\n",
      "Average Time :40.05306496620178\n",
      "Cv: 20\n",
      "Average Accuracy:0.9517699115044248 Stdv:0.0014841159142697535\n",
      "Average Precision:0.9619714468074332 Stdv:0.0015808047225074782\n",
      "Average recall score:0.8928104575163399 Stdv:0.0035798859967658397\n",
      "Average f1_score:0.9260992253275309 Stdv:0.002370566981033554\n",
      "Average Time :89.9883276462555\n",
      "Cv: 30\n",
      "Average Accuracy:0.9535398230088497 Stdv:0.0007821977667992991\n",
      "Average Precision:0.9661049523968863 Stdv:0.0018602199551208207\n",
      "Average recall score:0.8941176470588236 Stdv:0.0017899429983828895\n",
      "Average f1_score:0.9287167892393642 Stdv:0.0012047842656940108\n",
      "Average Time :138.0079122543335\n",
      "Cv: 40\n",
      "Average Accuracy:0.9544247787610619 Stdv:0.0014423014170802237\n",
      "Average Precision:0.9668584556987314 Stdv:0.001838641118622949\n",
      "Average recall score:0.8960784313725491 Stdv:0.004260916604707598\n",
      "Average f1_score:0.9301185252557531 Stdv:0.002339460532233175\n",
      "Average Time :182.65825004577636\n",
      "Cv: 80\n",
      "Average Accuracy:0.9548672566371682 Stdv:0.0009255088789094002\n",
      "Average Precision:0.9655916235975539 Stdv:0.001522031629515948\n",
      "Average recall score:0.8986928104575164 Stdv:0.0023108064744658333\n",
      "Average f1_score:0.9309402993288393 Stdv:0.0014613673124472266\n",
      "Average Time :366.5093427658081\n"
     ]
    }
   ],
   "source": [
    "cv_list=[3,5,10,20,30,40,80]\n",
    "for i in cv_list:\n",
    "    run_classifier(i)"
   ]
  },
  {
   "cell_type": "code",
   "execution_count": null,
   "metadata": {},
   "outputs": [],
   "source": []
  }
 ],
 "metadata": {
  "kernelspec": {
   "display_name": "Python 3",
   "language": "python",
   "name": "python3"
  },
  "language_info": {
   "codemirror_mode": {
    "name": "ipython",
    "version": 3
   },
   "file_extension": ".py",
   "mimetype": "text/x-python",
   "name": "python",
   "nbconvert_exporter": "python",
   "pygments_lexer": "ipython3",
   "version": "3.8.5"
  }
 },
 "nbformat": 4,
 "nbformat_minor": 4
}
