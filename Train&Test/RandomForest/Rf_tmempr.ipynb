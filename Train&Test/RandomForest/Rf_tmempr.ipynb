{
 "cells": [
  {
   "cell_type": "code",
   "execution_count": 1,
   "metadata": {},
   "outputs": [],
   "source": [
    "from sklearn.metrics import precision_score, accuracy_score, recall_score, f1_score\n",
    "from sklearn.model_selection import GridSearchCV, StratifiedKFold, train_test_split\n",
    "import matplotlib.pyplot as plt\n",
    "from matplotlib.pyplot import figure\n",
    "from sklearn.metrics import classification_report,confusion_matrix\n",
    "from sklearn.ensemble import RandomForestClassifier\n",
    "from sklearn.model_selection import train_test_split\n",
    "from sklearn.preprocessing import StandardScaler\n",
    "from sklearn import model_selection\n",
    "from sklearn.model_selection import cross_val_predict\n",
    "import numpy as np\n",
    "import pandas as pd\n",
    "import statistics\n",
    "import time"
   ]
  },
  {
   "cell_type": "code",
   "execution_count": 2,
   "metadata": {},
   "outputs": [],
   "source": [
    "covid_list = pd.read_csv(\"C:/Users/furka/Covid-19_TMEMPR_Classification/DataSet_Csv/covid_tmempr_100.csv\", sep=','  , engine='python')\n",
    "normal_list = pd.read_csv(\"C:/Users/furka/Covid-19_TMEMPR_Classification/DataSet_Csv/normal_tmempr_100.csv\", sep=','  , engine='python')\n",
    "covid_list=covid_list.values.tolist()\n",
    "normal_list = normal_list.values.tolist()\n",
    "X = covid_list+normal_list\n",
    "y =[]\n",
    "for i in range(len(covid_list)):\n",
    "    y.append(1)\n",
    "for i in range(len(normal_list)):\n",
    "    y.append(0)"
   ]
  },
  {
   "cell_type": "code",
   "execution_count": 3,
   "metadata": {},
   "outputs": [],
   "source": [
    "X_scaled = StandardScaler().fit_transform(X)"
   ]
  },
  {
   "cell_type": "code",
   "execution_count": 4,
   "metadata": {},
   "outputs": [],
   "source": [
    "def run_classifier(cv):\n",
    "    Acc_list=[]\n",
    "    Prsc_list = []\n",
    "    Rcl_list=[]\n",
    "    F1_list = []\n",
    "    time_list=[]\n",
    "    for i in range(5):\n",
    "        start_time = time.time()\n",
    "        y_pred = cross_val_predict(RandomForestClassifier(n_estimators=300), X_scaled, y, cv=cv)\n",
    "        finish_time = time.time()\n",
    "        time_list.append(finish_time-start_time)\n",
    "        Acc_list.append(accuracy_score(y, y_pred))\n",
    "        Prsc_list.append(precision_score(y, y_pred))\n",
    "        Rcl_list.append(recall_score(y, y_pred))\n",
    "        F1_list.append(f1_score(y, y_pred))\n",
    "    print(\"Cv: \"+ str(cv))\n",
    "    print(\"Average Accuracy:\"+str(sum(Acc_list)/len(Acc_list))+\" Stdv:\"+str(statistics.stdev(Acc_list)))\n",
    "    print(\"Average Precision:\"+str(sum(Prsc_list)/len(Prsc_list))+\" Stdv:\"+str(statistics.stdev(Prsc_list)))\n",
    "    print(\"Average recall score:\"+str(sum(Rcl_list)/len(Rcl_list))+\" Stdv:\"+str(statistics.stdev(Rcl_list)))\n",
    "    print(\"Average f1_score:\"+str(sum(F1_list)/len(F1_list))+\" Stdv:\"+str(statistics.stdev(F1_list)))\n",
    "    print(\"Average Time :\"+str(sum(time_list)/len(time_list)))"
   ]
  },
  {
   "cell_type": "code",
   "execution_count": 5,
   "metadata": {},
   "outputs": [
    {
     "name": "stdout",
     "output_type": "stream",
     "text": [
      "Cv: 3\n",
      "Average Accuracy:0.9632743362831858 Stdv:0.0012117755697016663\n",
      "Average Precision:0.9857548125633233 Stdv:5.5493673506056846e-05\n",
      "Average recall score:0.9045751633986928 Stdv:0.003579885996765779\n",
      "Average f1_score:0.9434190058275871 Stdv:0.00197109415646946\n",
      "Average Time :2.566426658630371\n",
      "Cv: 5\n",
      "Average Accuracy:0.9623893805309734 Stdv:0.0022123893805309214\n",
      "Average Precision:0.9735618787342926 Stdv:0.005667170621381619\n",
      "Average recall score:0.9137254901960784 Stdv:0.002922964676470303\n",
      "Average f1_score:0.9426878678556531 Stdv:0.003279777137816559\n",
      "Average Time :5.26707763671875\n",
      "Cv: 10\n",
      "Average Accuracy:0.9628318584070795 Stdv:0.000989410609513158\n",
      "Average Precision:0.9789027873534917 Stdv:6.60711507190003e-05\n",
      "Average recall score:0.9098039215686274 Stdv:0.002922964676470303\n",
      "Average f1_score:0.9430874942739349 Stdv:0.0015979230622537178\n",
      "Average Time :11.978278017044067\n",
      "Cv: 20\n",
      "Average Accuracy:0.9672566371681416 Stdv:0.0018510177578187474\n",
      "Average Precision:0.9805357286391768 Stdv:0.0030641473987610855\n",
      "Average recall score:0.9215686274509803 Stdv:0.0046216129489317056\n",
      "Average f1_score:0.950131736373347 Stdv:0.0028846380446101846\n",
      "Average Time :25.03765525817871\n",
      "Cv: 30\n",
      "Average Accuracy:0.9646017699115044 Stdv:0.0\n",
      "Average Precision:0.979020979020979 Stdv:0.0\n",
      "Average recall score:0.9150326797385621 Stdv:0.0\n",
      "Average f1_score:0.9459459459459459 Stdv:0.0\n",
      "Average Time :38.77724890708923\n",
      "Cv: 40\n",
      "Average Accuracy:0.9694690265486725 Stdv:0.0018510177578187608\n",
      "Average Precision:0.9820019157088122 Stdv:0.0037516235970865\n",
      "Average recall score:0.9267973856209151 Stdv:0.0029229646764703525\n",
      "Average f1_score:0.9535986260818475 Stdv:0.0027994079974583298\n",
      "Average Time :51.596491479873656\n",
      "Cv: 80\n",
      "Average Accuracy:0.9690265486725662 Stdv:0.0\n",
      "Average Precision:0.9793103448275862 Stdv:0.0\n",
      "Average recall score:0.9281045751633987 Stdv:0.0\n",
      "Average f1_score:0.9530201342281879 Stdv:0.0\n",
      "Average Time :103.32178840637206\n"
     ]
    }
   ],
   "source": [
    "cv_list=[3,5,10,20,30,40,80]\n",
    "for i in cv_list:\n",
    "    run_classifier(i)"
   ]
  },
  {
   "cell_type": "code",
   "execution_count": null,
   "metadata": {},
   "outputs": [],
   "source": []
  }
 ],
 "metadata": {
  "kernelspec": {
   "display_name": "Python 3",
   "language": "python",
   "name": "python3"
  },
  "language_info": {
   "codemirror_mode": {
    "name": "ipython",
    "version": 3
   },
   "file_extension": ".py",
   "mimetype": "text/x-python",
   "name": "python",
   "nbconvert_exporter": "python",
   "pygments_lexer": "ipython3",
   "version": "3.8.5"
  }
 },
 "nbformat": 4,
 "nbformat_minor": 4
}
