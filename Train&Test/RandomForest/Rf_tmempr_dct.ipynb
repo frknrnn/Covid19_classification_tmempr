{
 "cells": [
  {
   "cell_type": "code",
   "execution_count": 1,
   "metadata": {},
   "outputs": [],
   "source": [
    "from sklearn.metrics import precision_score, accuracy_score, recall_score, f1_score\n",
    "from sklearn.model_selection import GridSearchCV, StratifiedKFold, train_test_split\n",
    "import matplotlib.pyplot as plt\n",
    "from matplotlib.pyplot import figure\n",
    "from sklearn.metrics import classification_report,confusion_matrix\n",
    "from sklearn.ensemble import RandomForestClassifier\n",
    "from sklearn.model_selection import train_test_split\n",
    "from sklearn.preprocessing import StandardScaler\n",
    "from sklearn import model_selection\n",
    "from sklearn.model_selection import cross_val_predict\n",
    "import numpy as np\n",
    "import pandas as pd\n",
    "import statistics\n",
    "import time"
   ]
  },
  {
   "cell_type": "code",
   "execution_count": 2,
   "metadata": {},
   "outputs": [],
   "source": [
    "covid_list_tmempr = pd.read_csv(\"C:/Users/furka/Covid-19_TMEMPR_Classification/DataSet_Csv/covid_tmempr_100.csv\", sep=','  , engine='python').values.tolist()\n",
    "normal_list_tmempr = pd.read_csv(\"C:/Users/furka/Covid-19_TMEMPR_Classification/DataSet_Csv/normal_tmempr_100.csv\", sep=','  , engine='python').values.tolist()\n",
    "covid_list_dct = pd.read_csv(\"C:/Users/furka/Covid-19_TMEMPR_Classification/DataSet_Csv/covid_dct_100.csv\", sep=','  , engine='python').values.tolist()\n",
    "normal_list_dct = pd.read_csv(\"C:/Users/furka/Covid-19_TMEMPR_Classification/DataSet_Csv/normal_dct_100.csv\", sep=','  , engine='python').values.tolist()\n",
    "\n",
    "X_covid = covid_list_tmempr+covid_list_dct\n",
    "X_normal = normal_list_tmempr+normal_list_dct\n",
    "X=X_covid+X_normal\n",
    "y =[]\n",
    "for i in range(len(X_covid)):\n",
    "    y.append(1)\n",
    "for i in range(len(X_normal)):\n",
    "    y.append(0)"
   ]
  },
  {
   "cell_type": "code",
   "execution_count": 3,
   "metadata": {},
   "outputs": [],
   "source": [
    "X_scaled = StandardScaler().fit_transform(X)"
   ]
  },
  {
   "cell_type": "code",
   "execution_count": 4,
   "metadata": {},
   "outputs": [],
   "source": [
    "def run_classifier(cv):\n",
    "    Acc_list=[]\n",
    "    Prsc_list = []\n",
    "    Rcl_list=[]\n",
    "    F1_list = []\n",
    "    time_list=[]\n",
    "    for i in range(5):\n",
    "        start_time = time.time()\n",
    "        y_pred = cross_val_predict(RandomForestClassifier(n_estimators=300), X_scaled, y, cv=cv)\n",
    "        finish_time = time.time()\n",
    "        time_list.append(finish_time-start_time)\n",
    "        Acc_list.append(accuracy_score(y, y_pred))\n",
    "        Prsc_list.append(precision_score(y, y_pred))\n",
    "        Rcl_list.append(recall_score(y, y_pred))\n",
    "        F1_list.append(f1_score(y, y_pred))\n",
    "    print(\"Cv: \"+ str(cv))\n",
    "    print(\"Average Accuracy:\"+str(sum(Acc_list)/len(Acc_list))+\" Stdv:\"+str(statistics.stdev(Acc_list)))\n",
    "    print(\"Average Precision:\"+str(sum(Prsc_list)/len(Prsc_list))+\" Stdv:\"+str(statistics.stdev(Prsc_list)))\n",
    "    print(\"Average recall score:\"+str(sum(Rcl_list)/len(Rcl_list))+\" Stdv:\"+str(statistics.stdev(Rcl_list)))\n",
    "    print(\"Average f1_score:\"+str(sum(F1_list)/len(F1_list))+\" Stdv:\"+str(statistics.stdev(F1_list)))\n",
    "    print(\"Average Time :\"+str(sum(time_list)/len(time_list)))"
   ]
  },
  {
   "cell_type": "code",
   "execution_count": 5,
   "metadata": {},
   "outputs": [
    {
     "name": "stdout",
     "output_type": "stream",
     "text": [
      "Cv: 3\n",
      "Average Accuracy:0.8909292035398231 Stdv:0.003957642438052719\n",
      "Average Precision:0.9544446745726833 Stdv:0.006455262262803661\n",
      "Average recall score:0.711764705882353 Stdv:0.009912255482420319\n",
      "Average f1_score:0.8154003596431905 Stdv:0.00739202274181181\n",
      "Average Time :5.724932622909546\n",
      "Cv: 5\n",
      "Average Accuracy:0.9088495575221239 Stdv:0.0026640695970779433\n",
      "Average Precision:0.9451448149586043 Stdv:0.008449305088858404\n",
      "Average recall score:0.7758169934640523 Stdv:0.00677661482134895\n",
      "Average f1_score:0.8521149394822004 Stdv:0.004329929059870126\n",
      "Average Time :11.783513450622559\n",
      "Cv: 10\n",
      "Average Accuracy:0.9238938053097346 Stdv:0.0009255088789093605\n",
      "Average Precision:0.9654741032002263 Stdv:0.0031300635149458405\n",
      "Average recall score:0.803921568627451 Stdv:0.0023108064744658333\n",
      "Average f1_score:0.8773180939822941 Stdv:0.0014650286978031726\n",
      "Average Time :27.317005920410157\n",
      "Cv: 20\n",
      "Average Accuracy:0.9300884955752211 Stdv:0.0027544025659266926\n",
      "Average Precision:0.9690932974686355 Stdv:0.004688624725668675\n",
      "Average recall score:0.8196078431372549 Stdv:0.005369828995148668\n",
      "Average f1_score:0.8880983686037084 Stdv:0.0045076362120677034\n",
      "Average Time :59.040388345718384\n",
      "Cv: 30\n",
      "Average Accuracy:0.9356194690265488 Stdv:0.0028633139614037315\n",
      "Average Precision:0.9704084305410762 Stdv:0.004732950594715233\n",
      "Average recall score:0.8352941176470589 Stdv:0.007870323254112643\n",
      "Average f1_score:0.897774892341733 Stdv:0.004854093376153213\n",
      "Average Time :91.26563487052917\n",
      "Cv: 40\n",
      "Average Accuracy:0.9305309734513274 Stdv:0.001978821219026359\n",
      "Average Precision:0.9691353628803508 Stdv:0.00273323620101202\n",
      "Average recall score:0.8209150326797385 Stdv:0.004260916604707598\n",
      "Average f1_score:0.8888855548216622 Stdv:0.0032998348257520286\n",
      "Average Time :125.34381465911865\n",
      "Cv: 80\n",
      "Average Accuracy:0.9367256637168142 Stdv:0.0026410036252905375\n",
      "Average Precision:0.9698224221363929 Stdv:0.0057287998546484776\n",
      "Average recall score:0.8392156862745098 Stdv:0.007084798493032262\n",
      "Average f1_score:0.8997822246154807 Stdv:0.004376416391009968\n",
      "Average Time :256.03283152580264\n"
     ]
    }
   ],
   "source": [
    "cv_list=[3,5,10,20,30,40,80]\n",
    "for i in cv_list:\n",
    "    run_classifier(i)"
   ]
  },
  {
   "cell_type": "code",
   "execution_count": null,
   "metadata": {},
   "outputs": [],
   "source": []
  }
 ],
 "metadata": {
  "kernelspec": {
   "display_name": "Python 3",
   "language": "python",
   "name": "python3"
  },
  "language_info": {
   "codemirror_mode": {
    "name": "ipython",
    "version": 3
   },
   "file_extension": ".py",
   "mimetype": "text/x-python",
   "name": "python",
   "nbconvert_exporter": "python",
   "pygments_lexer": "ipython3",
   "version": "3.8.5"
  }
 },
 "nbformat": 4,
 "nbformat_minor": 4
}
