{
 "cells": [
  {
   "cell_type": "code",
   "execution_count": 1,
   "metadata": {},
   "outputs": [],
   "source": [
    "from sklearn.metrics import precision_score, accuracy_score, recall_score, f1_score\n",
    "from sklearn.model_selection import GridSearchCV, StratifiedKFold, train_test_split\n",
    "import matplotlib.pyplot as plt\n",
    "from matplotlib.pyplot import figure\n",
    "from sklearn.metrics import classification_report,confusion_matrix\n",
    "from sklearn.ensemble import RandomForestClassifier\n",
    "from sklearn.model_selection import train_test_split\n",
    "from sklearn.preprocessing import StandardScaler\n",
    "from sklearn import model_selection\n",
    "from sklearn.model_selection import cross_val_predict\n",
    "import numpy as np\n",
    "import pandas as pd\n",
    "import statistics\n",
    "import time\n",
    "from sklearn import svm"
   ]
  },
  {
   "cell_type": "code",
   "execution_count": 2,
   "metadata": {},
   "outputs": [],
   "source": [
    "covid_list = pd.read_csv(\"C:/Users/furka/Covid-19_TMEMPR_Classification/DataSet_Csv/covid_wavelet_100.csv\", sep=','  , engine='python')\n",
    "normal_list = pd.read_csv(\"C:/Users/furka/Covid-19_TMEMPR_Classification/DataSet_Csv/normal_wavelet_100.csv\", sep=','  , engine='python')\n",
    "covid_list=covid_list.values.tolist()\n",
    "normal_list = normal_list.values.tolist()\n",
    "X = covid_list+normal_list\n",
    "y =[]\n",
    "for i in range(len(covid_list)):\n",
    "    y.append(1)\n",
    "for i in range(len(normal_list)):\n",
    "    y.append(0)"
   ]
  },
  {
   "cell_type": "code",
   "execution_count": 3,
   "metadata": {},
   "outputs": [],
   "source": [
    "X_scaled = StandardScaler().fit_transform(X)"
   ]
  },
  {
   "cell_type": "code",
   "execution_count": 4,
   "metadata": {},
   "outputs": [],
   "source": [
    "def run_classifier(cv):\n",
    "    Acc_list=[]\n",
    "    Prsc_list = []\n",
    "    Rcl_list=[]\n",
    "    F1_list = []\n",
    "    time_list=[]\n",
    "    for i in range(5):\n",
    "        start_time = time.time()\n",
    "        y_pred = cross_val_predict(svm.SVC(), X_scaled, y, cv=cv)\n",
    "        finish_time = time.time()\n",
    "        time_list.append(finish_time-start_time)\n",
    "        Acc_list.append(accuracy_score(y, y_pred))\n",
    "        Prsc_list.append(precision_score(y, y_pred))\n",
    "        Rcl_list.append(recall_score(y, y_pred))\n",
    "        F1_list.append(f1_score(y, y_pred))\n",
    "    print(\"Cv: \"+ str(cv))\n",
    "    print(\"Average Accuracy:\"+str(sum(Acc_list)/len(Acc_list))+\" Stdv:\"+str(statistics.stdev(Acc_list)))\n",
    "    print(\"Average Precision:\"+str(sum(Prsc_list)/len(Prsc_list))+\" Stdv:\"+str(statistics.stdev(Prsc_list)))\n",
    "    print(\"Average recall score:\"+str(sum(Rcl_list)/len(Rcl_list))+\" Stdv:\"+str(statistics.stdev(Rcl_list)))\n",
    "    print(\"Average f1_score:\"+str(sum(F1_list)/len(F1_list))+\" Stdv:\"+str(statistics.stdev(F1_list)))\n",
    "    print(\"Average Time :\"+str(sum(time_list)/len(time_list)))"
   ]
  },
  {
   "cell_type": "code",
   "execution_count": 5,
   "metadata": {
    "scrolled": true
   },
   "outputs": [
    {
     "name": "stdout",
     "output_type": "stream",
     "text": [
      "Cv: 3\n",
      "Average Accuracy:0.9336283185840708 Stdv:0.0\n",
      "Average Precision:0.9489051094890509 Stdv:0.0\n",
      "Average recall score:0.8496732026143791 Stdv:0.0\n",
      "Average f1_score:0.8965517241379309 Stdv:0.0\n",
      "Average Time :0.1483095645904541\n",
      "Cv: 5\n",
      "Average Accuracy:0.9424778761061947 Stdv:0.0\n",
      "Average Precision:0.9568345323741008 Stdv:0.0\n",
      "Average recall score:0.8692810457516341 Stdv:0.0\n",
      "Average f1_score:0.9109589041095891 Stdv:0.0\n",
      "Average Time :0.26076693534851075\n",
      "Cv: 10\n",
      "Average Accuracy:0.9402654867256637 Stdv:0.0\n",
      "Average Precision:0.9565217391304348 Stdv:0.0\n",
      "Average recall score:0.8627450980392158 Stdv:0.0\n",
      "Average f1_score:0.9072164948453608 Stdv:0.0\n",
      "Average Time :0.5664694786071778\n",
      "Cv: 20\n",
      "Average Accuracy:0.9424778761061947 Stdv:0.0\n",
      "Average Precision:0.9568345323741008 Stdv:0.0\n",
      "Average recall score:0.8692810457516341 Stdv:0.0\n",
      "Average f1_score:0.9109589041095891 Stdv:0.0\n",
      "Average Time :1.1859138011932373\n",
      "Cv: 30\n",
      "Average Accuracy:0.9446902654867257 Stdv:0.0\n",
      "Average Precision:0.9507042253521126 Stdv:0.0\n",
      "Average recall score:0.8823529411764707 Stdv:0.0\n",
      "Average f1_score:0.9152542372881356 Stdv:0.0\n",
      "Average Time :1.8076924800872802\n",
      "Cv: 40\n",
      "Average Accuracy:0.9491150442477876 Stdv:0.0\n",
      "Average Precision:0.951388888888889 Stdv:0.0\n",
      "Average recall score:0.8954248366013072 Stdv:0.0\n",
      "Average f1_score:0.9225589225589225 Stdv:0.0\n",
      "Average Time :2.3591957092285156\n",
      "Cv: 80\n",
      "Average Accuracy:0.9513274336283185 Stdv:0.0\n",
      "Average Precision:0.9517241379310345 Stdv:0.0\n",
      "Average recall score:0.9019607843137255 Stdv:0.0\n",
      "Average f1_score:0.9261744966442953 Stdv:0.0\n",
      "Average Time :4.67291226387024\n"
     ]
    }
   ],
   "source": [
    "cv_list=[3,5,10,20,30,40,80]\n",
    "for i in cv_list:\n",
    "    run_classifier(i)"
   ]
  },
  {
   "cell_type": "code",
   "execution_count": null,
   "metadata": {},
   "outputs": [],
   "source": []
  }
 ],
 "metadata": {
  "kernelspec": {
   "display_name": "Python 3",
   "language": "python",
   "name": "python3"
  },
  "language_info": {
   "codemirror_mode": {
    "name": "ipython",
    "version": 3
   },
   "file_extension": ".py",
   "mimetype": "text/x-python",
   "name": "python",
   "nbconvert_exporter": "python",
   "pygments_lexer": "ipython3",
   "version": "3.8.5"
  }
 },
 "nbformat": 4,
 "nbformat_minor": 4
}
