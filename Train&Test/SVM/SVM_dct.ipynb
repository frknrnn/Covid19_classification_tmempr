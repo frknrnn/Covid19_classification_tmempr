{
 "cells": [
  {
   "cell_type": "code",
   "execution_count": 1,
   "metadata": {},
   "outputs": [],
   "source": [
    "from sklearn.metrics import precision_score, accuracy_score, recall_score, f1_score\n",
    "from sklearn.model_selection import GridSearchCV, StratifiedKFold, train_test_split\n",
    "import matplotlib.pyplot as plt\n",
    "from matplotlib.pyplot import figure\n",
    "from sklearn.metrics import classification_report,confusion_matrix\n",
    "from sklearn.ensemble import RandomForestClassifier\n",
    "from sklearn.model_selection import train_test_split\n",
    "from sklearn.preprocessing import StandardScaler\n",
    "from sklearn import model_selection\n",
    "from sklearn.model_selection import cross_val_predict\n",
    "import numpy as np\n",
    "import pandas as pd\n",
    "import statistics\n",
    "import time\n",
    "from sklearn import svm"
   ]
  },
  {
   "cell_type": "code",
   "execution_count": 2,
   "metadata": {},
   "outputs": [],
   "source": [
    "covid_list = pd.read_csv(\"C:/Users/furka/Covid-19_TMEMPR_Classification/DataSet_Csv/covid_dct_100.csv\", sep=','  , engine='python')\n",
    "normal_list = pd.read_csv(\"C:/Users/furka/Covid-19_TMEMPR_Classification/DataSet_Csv/normal_dct_100.csv\", sep=','  , engine='python')\n",
    "covid_list=covid_list.values.tolist()\n",
    "normal_list = normal_list.values.tolist()\n",
    "X = covid_list+normal_list\n",
    "y =[]\n",
    "for i in range(len(covid_list)):\n",
    "    y.append(1)\n",
    "for i in range(len(normal_list)):\n",
    "    y.append(0)"
   ]
  },
  {
   "cell_type": "code",
   "execution_count": 3,
   "metadata": {},
   "outputs": [],
   "source": [
    "X_scaled = StandardScaler().fit_transform(X)"
   ]
  },
  {
   "cell_type": "code",
   "execution_count": 4,
   "metadata": {},
   "outputs": [],
   "source": [
    "def run_classifier(cv):\n",
    "    Acc_list=[]\n",
    "    Prsc_list = []\n",
    "    Rcl_list=[]\n",
    "    F1_list = []\n",
    "    time_list=[]\n",
    "    for i in range(5):\n",
    "        start_time = time.time()\n",
    "        y_pred = cross_val_predict(svm.SVC(), X_scaled, y, cv=cv)\n",
    "        finish_time = time.time()\n",
    "        time_list.append(finish_time-start_time)\n",
    "        Acc_list.append(accuracy_score(y, y_pred))\n",
    "        Prsc_list.append(precision_score(y, y_pred))\n",
    "        Rcl_list.append(recall_score(y, y_pred))\n",
    "        F1_list.append(f1_score(y, y_pred))\n",
    "    print(\"Cv: \"+ str(cv))\n",
    "    print(\"Average Accuracy:\"+str(sum(Acc_list)/len(Acc_list))+\" Stdv:\"+str(statistics.stdev(Acc_list)))\n",
    "    print(\"Average Precision:\"+str(sum(Prsc_list)/len(Prsc_list))+\" Stdv:\"+str(statistics.stdev(Prsc_list)))\n",
    "    print(\"Average recall score:\"+str(sum(Rcl_list)/len(Rcl_list))+\" Stdv:\"+str(statistics.stdev(Rcl_list)))\n",
    "    print(\"Average f1_score:\"+str(sum(F1_list)/len(F1_list))+\" Stdv:\"+str(statistics.stdev(F1_list)))\n",
    "    print(\"Average Time :\"+str(sum(time_list)/len(time_list)))"
   ]
  },
  {
   "cell_type": "code",
   "execution_count": 5,
   "metadata": {
    "scrolled": true
   },
   "outputs": [
    {
     "name": "stdout",
     "output_type": "stream",
     "text": [
      "Cv: 3\n",
      "Average Accuracy:0.8738938053097345 Stdv:0.0\n",
      "Average Precision:0.9210526315789472 Stdv:0.0\n",
      "Average recall score:0.6862745098039216 Stdv:0.0\n",
      "Average f1_score:0.7865168539325842 Stdv:0.0\n",
      "Average Time :0.25126123428344727\n",
      "Cv: 5\n",
      "Average Accuracy:0.8938053097345133 Stdv:0.0\n",
      "Average Precision:0.9338842975206612 Stdv:0.0\n",
      "Average recall score:0.738562091503268 Stdv:0.0\n",
      "Average f1_score:0.8248175182481752 Stdv:0.0\n",
      "Average Time :0.48731174468994143\n",
      "Cv: 10\n",
      "Average Accuracy:0.902654867256637 Stdv:0.0\n",
      "Average Precision:0.916030534351145 Stdv:0.0\n",
      "Average recall score:0.7843137254901961 Stdv:0.0\n",
      "Average f1_score:0.8450704225352113 Stdv:0.0\n",
      "Average Time :1.056993007659912\n",
      "Cv: 20\n",
      "Average Accuracy:0.9137168141592922 Stdv:0.0\n",
      "Average Precision:0.9384615384615385 Stdv:0.0\n",
      "Average recall score:0.7973856209150327 Stdv:0.0\n",
      "Average f1_score:0.8621908127208482 Stdv:0.0\n",
      "Average Time :2.1632692337036135\n",
      "Cv: 30\n",
      "Average Accuracy:0.9137168141592922 Stdv:0.0\n",
      "Average Precision:0.9384615384615385 Stdv:0.0\n",
      "Average recall score:0.7973856209150327 Stdv:0.0\n",
      "Average f1_score:0.8621908127208482 Stdv:0.0\n",
      "Average Time :3.295334815979004\n",
      "Cv: 40\n",
      "Average Accuracy:0.9159292035398231 Stdv:0.0\n",
      "Average Precision:0.9389312977099238 Stdv:0.0\n",
      "Average recall score:0.803921568627451 Stdv:0.0\n",
      "Average f1_score:0.8661971830985916 Stdv:0.0\n",
      "Average Time :4.43585238456726\n",
      "Cv: 80\n",
      "Average Accuracy:0.9247787610619469 Stdv:0.0\n",
      "Average Precision:0.9407407407407409 Stdv:0.0\n",
      "Average recall score:0.8300653594771242 Stdv:0.0\n",
      "Average f1_score:0.8819444444444444 Stdv:0.0\n",
      "Average Time :8.970189571380615\n"
     ]
    }
   ],
   "source": [
    "cv_list=[3,5,10,20,30,40,80]\n",
    "for i in cv_list:\n",
    "    run_classifier(i)"
   ]
  },
  {
   "cell_type": "code",
   "execution_count": null,
   "metadata": {},
   "outputs": [],
   "source": []
  }
 ],
 "metadata": {
  "kernelspec": {
   "display_name": "Python 3",
   "language": "python",
   "name": "python3"
  },
  "language_info": {
   "codemirror_mode": {
    "name": "ipython",
    "version": 3
   },
   "file_extension": ".py",
   "mimetype": "text/x-python",
   "name": "python",
   "nbconvert_exporter": "python",
   "pygments_lexer": "ipython3",
   "version": "3.8.5"
  }
 },
 "nbformat": 4,
 "nbformat_minor": 4
}
