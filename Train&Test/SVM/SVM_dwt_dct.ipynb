{
 "cells": [
  {
   "cell_type": "code",
   "execution_count": 1,
   "metadata": {},
   "outputs": [],
   "source": [
    "from sklearn.metrics import precision_score, accuracy_score, recall_score, f1_score\n",
    "from sklearn.model_selection import GridSearchCV, StratifiedKFold, train_test_split\n",
    "import matplotlib.pyplot as plt\n",
    "from matplotlib.pyplot import figure\n",
    "from sklearn.metrics import classification_report,confusion_matrix\n",
    "from sklearn.ensemble import RandomForestClassifier\n",
    "from sklearn.model_selection import train_test_split\n",
    "from sklearn.preprocessing import StandardScaler\n",
    "from sklearn import model_selection\n",
    "from sklearn.model_selection import cross_val_predict\n",
    "import numpy as np\n",
    "import pandas as pd\n",
    "import statistics\n",
    "import time\n",
    "from sklearn import svm"
   ]
  },
  {
   "cell_type": "code",
   "execution_count": 2,
   "metadata": {},
   "outputs": [],
   "source": [
    "covid_list_dwt = pd.read_csv(\"C:/Users/furka/Covid-19_TMEMPR_Classification/DataSet_Csv/covid_wavelet_100.csv\", sep=','  , engine='python').values.tolist()\n",
    "normal_list_dwt = pd.read_csv(\"C:/Users/furka/Covid-19_TMEMPR_Classification/DataSet_Csv/normal_wavelet_100.csv\", sep=','  , engine='python').values.tolist()\n",
    "covid_list_dct = pd.read_csv(\"C:/Users/furka/Covid-19_TMEMPR_Classification/DataSet_Csv/covid_dct_100.csv\", sep=','  , engine='python').values.tolist()\n",
    "normal_list_dct = pd.read_csv(\"C:/Users/furka/Covid-19_TMEMPR_Classification/DataSet_Csv/normal_dct_100.csv\", sep=','  , engine='python').values.tolist()\n",
    "\n",
    "X_covid = covid_list_dwt+covid_list_dct\n",
    "X_normal = normal_list_dwt+normal_list_dct\n",
    "X=X_covid+X_normal\n",
    "y =[]\n",
    "for i in range(len(X_covid)):\n",
    "    y.append(1)\n",
    "for i in range(len(X_normal)):\n",
    "    y.append(0)"
   ]
  },
  {
   "cell_type": "code",
   "execution_count": 3,
   "metadata": {},
   "outputs": [],
   "source": [
    "X_scaled = StandardScaler().fit_transform(X)"
   ]
  },
  {
   "cell_type": "code",
   "execution_count": 4,
   "metadata": {},
   "outputs": [],
   "source": [
    "def run_classifier(cv):\n",
    "    Acc_list=[]\n",
    "    Prsc_list = []\n",
    "    Rcl_list=[]\n",
    "    F1_list = []\n",
    "    time_list=[]\n",
    "    for i in range(5):\n",
    "        start_time = time.time()\n",
    "        y_pred = cross_val_predict(svm.SVC(), X_scaled, y, cv=cv)\n",
    "        finish_time = time.time()\n",
    "        time_list.append(finish_time-start_time)\n",
    "        Acc_list.append(accuracy_score(y, y_pred))\n",
    "        Prsc_list.append(precision_score(y, y_pred))\n",
    "        Rcl_list.append(recall_score(y, y_pred))\n",
    "        F1_list.append(f1_score(y, y_pred))\n",
    "    print(\"Cv: \"+ str(cv))\n",
    "    print(\"Average Accuracy:\"+str(sum(Acc_list)/len(Acc_list))+\" Stdv:\"+str(statistics.stdev(Acc_list)))\n",
    "    print(\"Average Precision:\"+str(sum(Prsc_list)/len(Prsc_list))+\" Stdv:\"+str(statistics.stdev(Prsc_list)))\n",
    "    print(\"Average recall score:\"+str(sum(Rcl_list)/len(Rcl_list))+\" Stdv:\"+str(statistics.stdev(Rcl_list)))\n",
    "    print(\"Average f1_score:\"+str(sum(F1_list)/len(F1_list))+\" Stdv:\"+str(statistics.stdev(F1_list)))\n",
    "    print(\"Average Time :\"+str(sum(time_list)/len(time_list)))"
   ]
  },
  {
   "cell_type": "code",
   "execution_count": 5,
   "metadata": {},
   "outputs": [
    {
     "name": "stdout",
     "output_type": "stream",
     "text": [
      "Cv: 3\n",
      "Average Accuracy:0.8528761061946902 Stdv:0.0\n",
      "Average Precision:0.9675675675675676 Stdv:0.0\n",
      "Average recall score:0.5849673202614379 Stdv:0.0\n",
      "Average f1_score:0.7291242362525459 Stdv:0.0\n",
      "Average Time :0.9290655612945556\n",
      "Cv: 5\n",
      "Average Accuracy:0.8783185840707965 Stdv:0.0\n",
      "Average Precision:0.9579439252336449 Stdv:0.0\n",
      "Average recall score:0.6699346405228758 Stdv:0.0\n",
      "Average f1_score:0.7884615384615384 Stdv:0.0\n",
      "Average Time :1.8665523529052734\n",
      "Cv: 10\n",
      "Average Accuracy:0.8971238938053098 Stdv:0.0\n",
      "Average Precision:0.9531914893617021 Stdv:0.0\n",
      "Average recall score:0.7320261437908496 Stdv:0.0\n",
      "Average f1_score:0.8280961182994455 Stdv:0.0\n",
      "Average Time :4.297569370269775\n",
      "Cv: 20\n",
      "Average Accuracy:0.902654867256637 Stdv:0.0\n",
      "Average Precision:0.9658119658119657 Stdv:0.0\n",
      "Average recall score:0.738562091503268 Stdv:0.0\n",
      "Average f1_score:0.837037037037037 Stdv:0.0\n",
      "Average Time :8.912883234024047\n",
      "Cv: 30\n",
      "Average Accuracy:0.9015486725663717 Stdv:0.0\n",
      "Average Precision:0.9539748953974897 Stdv:0.0\n",
      "Average recall score:0.7450980392156863 Stdv:0.0\n",
      "Average f1_score:0.836697247706422 Stdv:0.0\n",
      "Average Time :13.472183799743652\n",
      "Cv: 40\n",
      "Average Accuracy:0.9059734513274338 Stdv:0.0\n",
      "Average Precision:0.9662447257383967 Stdv:0.0\n",
      "Average recall score:0.7483660130718954 Stdv:0.0\n",
      "Average f1_score:0.843462246777164 Stdv:0.0\n",
      "Average Time :17.69071340560913\n",
      "Cv: 80\n",
      "Average Accuracy:0.9037610619469026 Stdv:0.0\n",
      "Average Precision:0.9620253164556962 Stdv:0.0\n",
      "Average recall score:0.7450980392156863 Stdv:0.0\n",
      "Average f1_score:0.8397790055248621 Stdv:0.0\n",
      "Average Time :35.90694975852966\n"
     ]
    }
   ],
   "source": [
    "cv_list=[3,5,10,20,30,40,80]\n",
    "for i in cv_list:\n",
    "    run_classifier(i)"
   ]
  },
  {
   "cell_type": "code",
   "execution_count": null,
   "metadata": {},
   "outputs": [],
   "source": []
  }
 ],
 "metadata": {
  "kernelspec": {
   "display_name": "Python 3",
   "language": "python",
   "name": "python3"
  },
  "language_info": {
   "codemirror_mode": {
    "name": "ipython",
    "version": 3
   },
   "file_extension": ".py",
   "mimetype": "text/x-python",
   "name": "python",
   "nbconvert_exporter": "python",
   "pygments_lexer": "ipython3",
   "version": "3.8.5"
  }
 },
 "nbformat": 4,
 "nbformat_minor": 4
}
