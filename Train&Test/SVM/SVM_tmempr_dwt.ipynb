{
 "cells": [
  {
   "cell_type": "code",
   "execution_count": 1,
   "metadata": {},
   "outputs": [],
   "source": [
    "from sklearn.metrics import precision_score, accuracy_score, recall_score, f1_score\n",
    "from sklearn.model_selection import GridSearchCV, StratifiedKFold, train_test_split\n",
    "import matplotlib.pyplot as plt\n",
    "from matplotlib.pyplot import figure\n",
    "from sklearn.metrics import classification_report,confusion_matrix\n",
    "from sklearn.ensemble import RandomForestClassifier\n",
    "from sklearn.model_selection import train_test_split\n",
    "from sklearn.preprocessing import StandardScaler\n",
    "from sklearn import model_selection\n",
    "from sklearn.model_selection import cross_val_predict\n",
    "import numpy as np\n",
    "import pandas as pd\n",
    "import statistics\n",
    "import time\n",
    "from sklearn import svm"
   ]
  },
  {
   "cell_type": "code",
   "execution_count": 2,
   "metadata": {},
   "outputs": [],
   "source": [
    "covid_list_tmempr = pd.read_csv(\"C:/Users/furka/Covid-19_TMEMPR_Classification/DataSet_Csv/covid_tmempr_100.csv\", sep=','  , engine='python').values.tolist()\n",
    "normal_list_tmempr = pd.read_csv(\"C:/Users/furka/Covid-19_TMEMPR_Classification/DataSet_Csv/normal_tmempr_100.csv\", sep=','  , engine='python').values.tolist()\n",
    "covid_list_dwt = pd.read_csv(\"C:/Users/furka/Covid-19_TMEMPR_Classification/DataSet_Csv/covid_wavelet_100.csv\", sep=','  , engine='python').values.tolist()\n",
    "normal_list_dwt = pd.read_csv(\"C:/Users/furka/Covid-19_TMEMPR_Classification/DataSet_Csv/normal_wavelet_100.csv\", sep=','  , engine='python').values.tolist()\n",
    "\n",
    "X_covid = covid_list_tmempr+covid_list_dwt\n",
    "X_normal = normal_list_tmempr+normal_list_dwt\n",
    "X=X_covid+X_normal\n",
    "y =[]\n",
    "for i in range(len(X_covid)):\n",
    "    y.append(1)\n",
    "for i in range(len(X_normal)):\n",
    "    y.append(0)"
   ]
  },
  {
   "cell_type": "code",
   "execution_count": 3,
   "metadata": {},
   "outputs": [],
   "source": [
    "X_scaled = StandardScaler().fit_transform(X)"
   ]
  },
  {
   "cell_type": "code",
   "execution_count": 4,
   "metadata": {},
   "outputs": [],
   "source": [
    "def run_classifier(cv):\n",
    "    Acc_list=[]\n",
    "    Prsc_list = []\n",
    "    Rcl_list=[]\n",
    "    F1_list = []\n",
    "    time_list=[]\n",
    "    for i in range(5):\n",
    "        start_time = time.time()\n",
    "        y_pred = cross_val_predict(svm.SVC(), X_scaled, y, cv=cv)\n",
    "        finish_time = time.time()\n",
    "        time_list.append(finish_time-start_time)\n",
    "        Acc_list.append(accuracy_score(y, y_pred))\n",
    "        Prsc_list.append(precision_score(y, y_pred))\n",
    "        Rcl_list.append(recall_score(y, y_pred))\n",
    "        F1_list.append(f1_score(y, y_pred))\n",
    "    print(\"Cv: \"+ str(cv))\n",
    "    print(\"Average Accuracy:\"+str(sum(Acc_list)/len(Acc_list))+\" Stdv:\"+str(statistics.stdev(Acc_list)))\n",
    "    print(\"Average Precision:\"+str(sum(Prsc_list)/len(Prsc_list))+\" Stdv:\"+str(statistics.stdev(Prsc_list)))\n",
    "    print(\"Average recall score:\"+str(sum(Rcl_list)/len(Rcl_list))+\" Stdv:\"+str(statistics.stdev(Rcl_list)))\n",
    "    print(\"Average f1_score:\"+str(sum(F1_list)/len(F1_list))+\" Stdv:\"+str(statistics.stdev(F1_list)))\n",
    "    print(\"Average Time :\"+str(sum(time_list)/len(time_list)))"
   ]
  },
  {
   "cell_type": "code",
   "execution_count": 5,
   "metadata": {},
   "outputs": [
    {
     "name": "stdout",
     "output_type": "stream",
     "text": [
      "Cv: 3\n",
      "Average Accuracy:0.9303097345132743 Stdv:0.0\n",
      "Average Precision:0.9727626459143968 Stdv:0.0\n",
      "Average recall score:0.8169934640522876 Stdv:0.0\n",
      "Average f1_score:0.8880994671403197 Stdv:0.0\n",
      "Average Time :0.6146470069885254\n",
      "Cv: 5\n",
      "Average Accuracy:0.9347345132743363 Stdv:0.0\n",
      "Average Precision:0.9731800766283525 Stdv:0.0\n",
      "Average recall score:0.8300653594771242 Stdv:0.0\n",
      "Average f1_score:0.8959435626102294 Stdv:0.0\n",
      "Average Time :1.206078290939331\n",
      "Cv: 10\n",
      "Average Accuracy:0.9358407079646017 Stdv:0.0\n",
      "Average Precision:0.9732824427480915 Stdv:0.0\n",
      "Average recall score:0.8333333333333334 Stdv:0.0\n",
      "Average f1_score:0.8978873239436618 Stdv:0.0\n",
      "Average Time :2.7145055770874023\n",
      "Cv: 20\n",
      "Average Accuracy:0.9413716814159292 Stdv:0.0\n",
      "Average Precision:0.9773584905660379 Stdv:0.0\n",
      "Average recall score:0.8464052287581699 Stdv:0.0\n",
      "Average f1_score:0.9071803852889667 Stdv:0.0\n",
      "Average Time :5.7875946998596195\n",
      "Cv: 30\n",
      "Average Accuracy:0.9424778761061947 Stdv:0.0\n",
      "Average Precision:0.9774436090225563 Stdv:0.0\n",
      "Average recall score:0.8496732026143791 Stdv:0.0\n",
      "Average f1_score:0.909090909090909 Stdv:0.0\n",
      "Average Time :8.860214805603027\n",
      "Cv: 40\n",
      "Average Accuracy:0.9391592920353983 Stdv:0.0\n",
      "Average Precision:0.9771863117870723 Stdv:0.0\n",
      "Average recall score:0.8398692810457516 Stdv:0.0\n",
      "Average f1_score:0.9033391915641478 Stdv:0.0\n",
      "Average Time :11.63631567955017\n",
      "Cv: 80\n",
      "Average Accuracy:0.9402654867256637 Stdv:0.0\n",
      "Average Precision:0.9736842105263157 Stdv:0.0\n",
      "Average recall score:0.8464052287581699 Stdv:0.0\n",
      "Average f1_score:0.9055944055944056 Stdv:0.0\n",
      "Average Time :23.72621865272522\n"
     ]
    }
   ],
   "source": [
    "cv_list=[3,5,10,20,30,40,80]\n",
    "for i in cv_list:\n",
    "    run_classifier(i)"
   ]
  },
  {
   "cell_type": "code",
   "execution_count": null,
   "metadata": {},
   "outputs": [],
   "source": []
  }
 ],
 "metadata": {
  "kernelspec": {
   "display_name": "Python 3",
   "language": "python",
   "name": "python3"
  },
  "language_info": {
   "codemirror_mode": {
    "name": "ipython",
    "version": 3
   },
   "file_extension": ".py",
   "mimetype": "text/x-python",
   "name": "python",
   "nbconvert_exporter": "python",
   "pygments_lexer": "ipython3",
   "version": "3.8.5"
  }
 },
 "nbformat": 4,
 "nbformat_minor": 4
}
