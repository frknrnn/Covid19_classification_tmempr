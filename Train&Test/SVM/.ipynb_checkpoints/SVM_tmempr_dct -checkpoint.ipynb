{
 "cells": [
  {
   "cell_type": "code",
   "execution_count": 1,
   "metadata": {},
   "outputs": [],
   "source": [
    "from sklearn.metrics import precision_score, accuracy_score, recall_score, f1_score\n",
    "from sklearn.model_selection import GridSearchCV, StratifiedKFold, train_test_split\n",
    "import matplotlib.pyplot as plt\n",
    "from matplotlib.pyplot import figure\n",
    "from sklearn.metrics import classification_report,confusion_matrix\n",
    "from sklearn.ensemble import RandomForestClassifier\n",
    "from sklearn.model_selection import train_test_split\n",
    "from sklearn.preprocessing import StandardScaler\n",
    "from sklearn import model_selection\n",
    "from sklearn.model_selection import cross_val_predict\n",
    "import numpy as np\n",
    "import pandas as pd\n",
    "import statistics\n",
    "import time\n",
    "from sklearn import svm"
   ]
  },
  {
   "cell_type": "code",
   "execution_count": 2,
   "metadata": {},
   "outputs": [],
   "source": [
    "covid_list_tmempr = pd.read_csv(\"C:/Users/furka/Covid-19_TMEMPR_Classification/DataSet_Csv/covid_tmempr_100.csv\", sep=','  , engine='python').values.tolist()\n",
    "normal_list_tmempr = pd.read_csv(\"C:/Users/furka/Covid-19_TMEMPR_Classification/DataSet_Csv/normal_tmempr_100.csv\", sep=','  , engine='python').values.tolist()\n",
    "covid_list_dct = pd.read_csv(\"C:/Users/furka/Covid-19_TMEMPR_Classification/DataSet_Csv/covid_dct_100.csv\", sep=','  , engine='python').values.tolist()\n",
    "normal_list_dct = pd.read_csv(\"C:/Users/furka/Covid-19_TMEMPR_Classification/DataSet_Csv/normal_dct_100.csv\", sep=','  , engine='python').values.tolist()\n",
    "\n",
    "X_covid = covid_list_tmempr+covid_list_dct\n",
    "X_normal = normal_list_tmempr+normal_list_dct\n",
    "X=X_covid+X_normal\n",
    "y =[]\n",
    "for i in range(len(X_covid)):\n",
    "    y.append(1)\n",
    "for i in range(len(X_normal)):\n",
    "    y.append(0)"
   ]
  },
  {
   "cell_type": "code",
   "execution_count": 3,
   "metadata": {},
   "outputs": [],
   "source": [
    "X_scaled = StandardScaler().fit_transform(X)"
   ]
  },
  {
   "cell_type": "code",
   "execution_count": 4,
   "metadata": {},
   "outputs": [],
   "source": [
    "def run_classifier(cv):\n",
    "    Acc_list=[]\n",
    "    Prsc_list = []\n",
    "    Rcl_list=[]\n",
    "    F1_list = []\n",
    "    time_list=[]\n",
    "    for i in range(5):\n",
    "        start_time = time.time()\n",
    "        y_pred = cross_val_predict(svm.SVC(), X_scaled, y, cv=cv)\n",
    "        finish_time = time.time()\n",
    "        time_list.append(finish_time-start_time)\n",
    "        Acc_list.append(accuracy_score(y, y_pred))\n",
    "        Prsc_list.append(precision_score(y, y_pred))\n",
    "        Rcl_list.append(recall_score(y, y_pred))\n",
    "        F1_list.append(f1_score(y, y_pred))\n",
    "    print(\"Cv: \"+ str(cv))\n",
    "    print(\"Average Accuracy:\"+str(sum(Acc_list)/len(Acc_list))+\" Stdv:\"+str(statistics.stdev(Acc_list)))\n",
    "    print(\"Average Precision:\"+str(sum(Prsc_list)/len(Prsc_list))+\" Stdv:\"+str(statistics.stdev(Prsc_list)))\n",
    "    print(\"Average recall score:\"+str(sum(Rcl_list)/len(Rcl_list))+\" Stdv:\"+str(statistics.stdev(Rcl_list)))\n",
    "    print(\"Average f1_score:\"+str(sum(F1_list)/len(F1_list))+\" Stdv:\"+str(statistics.stdev(F1_list)))\n",
    "    print(\"Average Time :\"+str(sum(time_list)/len(time_list)))"
   ]
  },
  {
   "cell_type": "code",
   "execution_count": 5,
   "metadata": {},
   "outputs": [
    {
     "name": "stdout",
     "output_type": "stream",
     "text": [
      "Cv: 3\n",
      "Average Accuracy:0.39306784660766964 Stdv:0.0\n",
      "Average Precision:0.35624012638230645 Stdv:0.0\n",
      "Average recall score:0.9825708061002179 Stdv:0.0\n",
      "Average f1_score:0.5228985507246376 Stdv:0.0\n",
      "Average Time :2.1371681690216064\n",
      "Cv: 5\n",
      "Average Accuracy:0.7964601769911505 Stdv:0.0\n",
      "Average Precision:0.9692307692307691 Stdv:0.0\n",
      "Average recall score:0.4117647058823529 Stdv:0.0\n",
      "Average f1_score:0.5779816513761468 Stdv:0.0\n",
      "Average Time :4.713808059692383\n",
      "Cv: 10\n",
      "Average Accuracy:0.8045722713864307 Stdv:0.0\n",
      "Average Precision:0.9575471698113207 Stdv:0.0\n",
      "Average recall score:0.4422657952069716 Stdv:0.0\n",
      "Average f1_score:0.6050670640834575 Stdv:0.0\n",
      "Average Time :10.597926712036132\n",
      "Cv: 20\n",
      "Average Accuracy:0.8082595870206489 Stdv:0.0\n",
      "Average Precision:0.9627906976744185 Stdv:0.0\n",
      "Average recall score:0.45098039215686275 Stdv:0.0\n",
      "Average f1_score:0.6142433234421365 Stdv:0.0\n",
      "Average Time :22.366600847244264\n",
      "Cv: 30\n",
      "Average Accuracy:0.8104719764011798 Stdv:0.0\n",
      "Average Precision:0.9719626168224298 Stdv:0.0\n",
      "Average recall score:0.4531590413943355 Stdv:0.0\n",
      "Average f1_score:0.6181277860326894 Stdv:0.0\n",
      "Average Time :33.8148374080658\n",
      "Cv: 40\n",
      "Average Accuracy:0.8104719764011798 Stdv:0.0\n",
      "Average Precision:0.9508928571428571 Stdv:0.0\n",
      "Average recall score:0.46405228758169936 Stdv:0.0\n",
      "Average f1_score:0.623718887262079 Stdv:0.0\n",
      "Average Time :45.375000429153445\n",
      "Cv: 80\n",
      "Average Accuracy:0.8089970501474927 Stdv:0.0\n",
      "Average Precision:0.9504504504504505 Stdv:0.0\n",
      "Average recall score:0.4596949891067538 Stdv:0.0\n",
      "Average f1_score:0.6196769456681351 Stdv:0.0\n",
      "Average Time :91.60007877349854\n"
     ]
    }
   ],
   "source": [
    "cv_list=[3,5,10,20,30,40,80]\n",
    "for i in cv_list:\n",
    "    run_classifier(i)"
   ]
  },
  {
   "cell_type": "code",
   "execution_count": null,
   "metadata": {},
   "outputs": [],
   "source": []
  }
 ],
 "metadata": {
  "kernelspec": {
   "display_name": "Python 3",
   "language": "python",
   "name": "python3"
  },
  "language_info": {
   "codemirror_mode": {
    "name": "ipython",
    "version": 3
   },
   "file_extension": ".py",
   "mimetype": "text/x-python",
   "name": "python",
   "nbconvert_exporter": "python",
   "pygments_lexer": "ipython3",
   "version": "3.8.5"
  }
 },
 "nbformat": 4,
 "nbformat_minor": 4
}
