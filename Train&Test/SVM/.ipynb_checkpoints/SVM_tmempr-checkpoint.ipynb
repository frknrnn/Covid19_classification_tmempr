{
 "cells": [
  {
   "cell_type": "code",
   "execution_count": 1,
   "metadata": {},
   "outputs": [],
   "source": [
    "from sklearn.metrics import precision_score, accuracy_score, recall_score, f1_score\n",
    "from sklearn.model_selection import GridSearchCV, StratifiedKFold, train_test_split\n",
    "import matplotlib.pyplot as plt\n",
    "from matplotlib.pyplot import figure\n",
    "from sklearn.metrics import classification_report,confusion_matrix\n",
    "from sklearn.ensemble import RandomForestClassifier\n",
    "from sklearn.model_selection import train_test_split\n",
    "from sklearn.preprocessing import StandardScaler\n",
    "from sklearn import model_selection\n",
    "from sklearn.model_selection import cross_val_predict\n",
    "import numpy as np\n",
    "import pandas as pd\n",
    "import statistics\n",
    "import time\n",
    "from sklearn import svm"
   ]
  },
  {
   "cell_type": "code",
   "execution_count": 2,
   "metadata": {},
   "outputs": [],
   "source": [
    "covid_list = pd.read_csv(\"C:/Users/furka/Covid-19_TMEMPR_Classification/DataSet_Csv/covid_tmempr_100.csv\", sep=','  , engine='python')\n",
    "normal_list = pd.read_csv(\"C:/Users/furka/Covid-19_TMEMPR_Classification/DataSet_Csv/normal_tmempr_100.csv\", sep=','  , engine='python')\n",
    "covid_list=covid_list.values.tolist()\n",
    "normal_list = normal_list.values.tolist()\n",
    "X = covid_list+normal_list\n",
    "y =[]\n",
    "for i in range(len(covid_list)):\n",
    "    y.append(1)\n",
    "for i in range(len(normal_list)):\n",
    "    y.append(0)"
   ]
  },
  {
   "cell_type": "code",
   "execution_count": 3,
   "metadata": {},
   "outputs": [],
   "source": [
    "X_scaled = StandardScaler().fit_transform(X)"
   ]
  },
  {
   "cell_type": "code",
   "execution_count": 4,
   "metadata": {},
   "outputs": [],
   "source": [
    "def run_classifier(cv):\n",
    "    Acc_list=[]\n",
    "    Prsc_list = []\n",
    "    Rcl_list=[]\n",
    "    F1_list = []\n",
    "    time_list=[]\n",
    "    for i in range(5):\n",
    "        start_time = time.time()\n",
    "        y_pred = cross_val_predict(svm.SVC(), X_scaled, y, cv=cv)\n",
    "        finish_time = time.time()\n",
    "        time_list.append(finish_time-start_time)\n",
    "        Acc_list.append(accuracy_score(y, y_pred))\n",
    "        Prsc_list.append(precision_score(y, y_pred))\n",
    "        Rcl_list.append(recall_score(y, y_pred))\n",
    "        F1_list.append(f1_score(y, y_pred))\n",
    "    print(\"Cv: \"+ str(cv))\n",
    "    print(\"Average Accuracy:\"+str(sum(Acc_list)/len(Acc_list))+\" Stdv:\"+str(statistics.stdev(Acc_list)))\n",
    "    print(\"Average Precision:\"+str(sum(Prsc_list)/len(Prsc_list))+\" Stdv:\"+str(statistics.stdev(Prsc_list)))\n",
    "    print(\"Average recall score:\"+str(sum(Rcl_list)/len(Rcl_list))+\" Stdv:\"+str(statistics.stdev(Rcl_list)))\n",
    "    print(\"Average f1_score:\"+str(sum(F1_list)/len(F1_list))+\" Stdv:\"+str(statistics.stdev(F1_list)))\n",
    "    print(\"Average Time :\"+str(sum(time_list)/len(time_list)))"
   ]
  },
  {
   "cell_type": "code",
   "execution_count": 5,
   "metadata": {},
   "outputs": [
    {
     "name": "stdout",
     "output_type": "stream",
     "text": [
      "Cv: 3\n",
      "Average Accuracy:0.9646017699115044 Stdv:0.0\n",
      "Average Precision:1.0 Stdv:0.0\n",
      "Average recall score:0.8954248366013072 Stdv:0.0\n",
      "Average f1_score:0.9448275862068967 Stdv:0.0\n",
      "Average Time :0.16167373657226564\n",
      "Cv: 5\n",
      "Average Accuracy:0.9646017699115044 Stdv:0.0\n",
      "Average Precision:0.9928057553956835 Stdv:0.0\n",
      "Average recall score:0.9019607843137255 Stdv:0.0\n",
      "Average f1_score:0.9452054794520549 Stdv:0.0\n",
      "Average Time :0.2970274448394775\n",
      "Cv: 10\n",
      "Average Accuracy:0.9734513274336283 Stdv:0.0\n",
      "Average Precision:1.0 Stdv:0.0\n",
      "Average recall score:0.9215686274509803 Stdv:0.0\n",
      "Average f1_score:0.9591836734693878 Stdv:0.0\n",
      "Average Time :0.6416274070739746\n",
      "Cv: 20\n",
      "Average Accuracy:0.9778761061946902 Stdv:0.0\n",
      "Average Precision:1.0 Stdv:0.0\n",
      "Average recall score:0.934640522875817 Stdv:0.0\n",
      "Average f1_score:0.9662162162162161 Stdv:0.0\n",
      "Average Time :1.3301668643951416\n",
      "Cv: 30\n",
      "Average Accuracy:0.9756637168141593 Stdv:0.0\n",
      "Average Precision:1.0 Stdv:0.0\n",
      "Average recall score:0.9281045751633987 Stdv:0.0\n",
      "Average f1_score:0.9627118644067798 Stdv:0.0\n",
      "Average Time :2.015662097930908\n",
      "Cv: 40\n",
      "Average Accuracy:0.9800884955752214 Stdv:0.0\n",
      "Average Precision:1.0 Stdv:0.0\n",
      "Average recall score:0.9411764705882353 Stdv:0.0\n",
      "Average f1_score:0.9696969696969697 Stdv:0.0\n",
      "Average Time :2.686073970794678\n",
      "Cv: 80\n",
      "Average Accuracy:0.9778761061946902 Stdv:0.0\n",
      "Average Precision:1.0 Stdv:0.0\n",
      "Average recall score:0.934640522875817 Stdv:0.0\n",
      "Average f1_score:0.9662162162162161 Stdv:0.0\n",
      "Average Time :5.597625017166138\n"
     ]
    }
   ],
   "source": [
    "cv_list=[3,5,10,20,30,40,80]\n",
    "for i in cv_list:\n",
    "    run_classifier(i)"
   ]
  },
  {
   "cell_type": "code",
   "execution_count": null,
   "metadata": {},
   "outputs": [],
   "source": []
  }
 ],
 "metadata": {
  "kernelspec": {
   "display_name": "Python 3",
   "language": "python",
   "name": "python3"
  },
  "language_info": {
   "codemirror_mode": {
    "name": "ipython",
    "version": 3
   },
   "file_extension": ".py",
   "mimetype": "text/x-python",
   "name": "python",
   "nbconvert_exporter": "python",
   "pygments_lexer": "ipython3",
   "version": "3.8.5"
  }
 },
 "nbformat": 4,
 "nbformat_minor": 4
}
